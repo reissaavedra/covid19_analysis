{
 "cells": [
  {
   "cell_type": "markdown",
   "metadata": {},
   "source": [
    "# Coleccionando data de Covidtracking\n",
    "\n",
    "Este notebook nos permitirá recolectar la información de la siguiente https://covidtracking.com/data/api y guardarla en una base de datos Postgresql"
   ]
  },
  {
   "cell_type": "code",
   "execution_count": 1,
   "metadata": {},
   "outputs": [],
   "source": [
    "import pandas as pd\n",
    "import numpy as np\n",
    "import psycopg2"
   ]
  },
  {
   "cell_type": "code",
   "execution_count": 2,
   "metadata": {},
   "outputs": [],
   "source": [
    "URL_COVID_TRACKING = 'https://covidtracking.com/api/v1/states/daily.csv'\n",
    "HOST = '127.0.0.1'\n",
    "DATABASE = 'covid_tracking'\n",
    "USER = 'postgres'\n",
    "PASSWORD = 'reyson07'"
   ]
  },
  {
   "cell_type": "code",
   "execution_count": 3,
   "metadata": {},
   "outputs": [],
   "source": [
    "def getDataApiCovidTracking(url):\n",
    "    dfCasesStates = pd.read_csv(URL_COVID_TRACKING,\n",
    "                                 usecols=['date', 'state', 'positive','totalTestResults'],\n",
    "                                 parse_dates=['date'],\n",
    "                                 index_col=['state', 'date'],\n",
    "                                 squeeze=True).sort_index()\n",
    "    return dfCasesStates"
   ]
  },
  {
   "cell_type": "code",
   "execution_count": 4,
   "metadata": {},
   "outputs": [],
   "source": [
    "def get_connection():\n",
    "    return psycopg2.connect(host=HOST,\n",
    "                            database=DATABASE,\n",
    "                            user=USER,\n",
    "                            password=PASSWORD)"
   ]
  },
  {
   "cell_type": "code",
   "execution_count": 5,
   "metadata": {},
   "outputs": [],
   "source": [
    "def insert_covid_time(dfCasesStates):\n",
    "    dates = dfCasesStates.index.get_level_values(\"date\").unique()\n",
    "    for i in range(dates.shape[0]):\n",
    "        try:\n",
    "            conn = get_connection()\n",
    "            cur = conn.cursor()\n",
    "            call_sp = f\"CALL public.insert_covid_time('{dates[i]}');\"\n",
    "            cur.execute(call_sp)\n",
    "            conn.commit()\n",
    "        except(Exception,psycopg2.DatabaseError) as error:\n",
    "            print(f'ERROR: {error}')\n",
    "            print(call_sp)\n",
    "        finally:\n",
    "            cur.close()"
   ]
  },
  {
   "cell_type": "code",
   "execution_count": 6,
   "metadata": {},
   "outputs": [],
   "source": [
    "def insert_covid_state(dfCasesStates):\n",
    "    states = dfCasesStates.index.get_level_values(\"state\").unique()\n",
    "    for i in range(states.shape[0]):\n",
    "        try:\n",
    "            conn = get_connection()\n",
    "            cur = conn.cursor()\n",
    "            call_sp = f\"CALL public.insert_covid_states('{states[i]}');\"\n",
    "            cur.execute(call_sp)\n",
    "            conn.commit()\n",
    "        except(Exception,psycopg2.DatabaseError) as error:\n",
    "            print(f'ERROR: {error}')\n",
    "            print(call_sp)\n",
    "        finally:\n",
    "            cur.close()"
   ]
  },
  {
   "cell_type": "code",
   "execution_count": 7,
   "metadata": {},
   "outputs": [],
   "source": [
    "def insert_positive_cases(dfCasesStates):\n",
    "    states = dfCasesStates.index.get_level_values(\"state\")\n",
    "    dates = dfCasesStates.index.get_level_values(\"date\")\n",
    "    dfCasesStates = dfCasesStates.fillna(-1)\n",
    "    for i in range(dfCasesStates.shape[0]):\n",
    "        try:\n",
    "            conn = get_connection()\n",
    "            cur = conn.cursor()\n",
    "            call_sp = f\"CALL public.insert_covid_pos_cases('{states[i]}','{dates[i]}',{int(dfCasesStates.values[i][0])});\"\n",
    "            cur.execute(call_sp)\n",
    "            conn.commit()\n",
    "        except(Exception,psycopg2.DatabaseError) as error:\n",
    "            print(f'ERROR: {error}')\n",
    "            print(call_sp)\n",
    "        finally:\n",
    "            cur.close()"
   ]
  },
  {
   "cell_type": "code",
   "execution_count": 8,
   "metadata": {},
   "outputs": [],
   "source": [
    "def insert_test_results(dfCasesStates):\n",
    "    states = dfCasesStates.index.get_level_values(\"state\")\n",
    "    dates = dfCasesStates.index.get_level_values(\"date\")\n",
    "    dfCasesStates = dfCasesStates.fillna(-1)\n",
    "    for i in range(dfCasesStates.shape[0]):\n",
    "        try:\n",
    "            conn = get_connection()\n",
    "            cur = conn.cursor()\n",
    "            call_sp = f\"CALL public.insert_covid_test_results('{states[i]}','{dates[i]}',{int(dfCasesStates.values[i][1])});\"\n",
    "            cur.execute(call_sp)\n",
    "            conn.commit()\n",
    "        except(Exception,psycopg2.DatabaseError) as error:\n",
    "            print(f'ERROR: {error}')\n",
    "            print(call_sp)\n",
    "        finally:\n",
    "            cur.close()"
   ]
  },
  {
   "cell_type": "code",
   "execution_count": 9,
   "metadata": {},
   "outputs": [],
   "source": [
    "dfDataApiTracking = getDataApiCovidTracking(URL_COVID_TRACKING)\n",
    "insert_covid_time(dfDataApiTracking)\n",
    "insert_covid_state(dfDataApiTracking)\n",
    "insert_positive_cases(dfDataApiTracking)"
   ]
  },
  {
   "cell_type": "code",
   "execution_count": 12,
   "metadata": {},
   "outputs": [],
   "source": [
    "insert_test_results(dfDataApiTracking)"
   ]
  }
 ],
 "metadata": {
  "kernelspec": {
   "display_name": "Python 3",
   "language": "python",
   "name": "python3"
  },
  "language_info": {
   "codemirror_mode": {
    "name": "ipython",
    "version": 3
   },
   "file_extension": ".py",
   "mimetype": "text/x-python",
   "name": "python",
   "nbconvert_exporter": "python",
   "pygments_lexer": "ipython3",
   "version": "3.8.5"
  }
 },
 "nbformat": 4,
 "nbformat_minor": 4
}
